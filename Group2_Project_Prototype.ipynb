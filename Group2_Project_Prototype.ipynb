{
 "cells": [
  {
   "cell_type": "code",
   "execution_count": 9,
   "id": "f061331f-05a3-400c-8ef8-acfcf3102a18",
   "metadata": {},
   "outputs": [],
   "source": [
    "import joblib\n",
    "import numpy as np\n",
    "import pandas as pd\n",
    "from sklearn.metrics import classification_report, accuracy_score"
   ]
  },
  {
   "cell_type": "code",
   "execution_count": 3,
   "id": "9cc7c30b-7944-4863-86e5-843078312633",
   "metadata": {},
   "outputs": [],
   "source": [
    "# To load the model\n",
    "loaded_model = joblib.load('Random_Forest_Model.pkl')"
   ]
  },
  {
   "cell_type": "code",
   "execution_count": 13,
   "id": "285493be-3a8b-4d34-82ed-a207961c0b4b",
   "metadata": {},
   "outputs": [],
   "source": [
    "#load and clean labels\n",
    "def load_labels(file_path):\n",
    "    \"\"\"\n",
    "    Load labels using pandas and clean any unwanted formatting, including\n",
    "    trailing or leading brackets and whitespace.\n",
    "    \"\"\"\n",
    "    #read the file as a single column\n",
    "    df = pd.read_csv(file_path, header=None, delim_whitespace=True)\n",
    "\n",
    "    #Clean brackets and strip extra whitespace for each column\n",
    "    df = df.apply(lambda col: col.astype(str).str.replace('[', '', regex=False).str.replace(']', '', regex=False).str.strip())\n",
    "\n",
    "    #convert to integers\n",
    "    labels = df.values.flatten().astype(int)\n",
    "    return labels\n",
    "\n",
    "\n",
    "\n",
    "#parse data files\n",
    "def parse_pems_data(file_path):\n",
    "    \"\"\"\n",
    "    Parse a PEMS data file where each line represents a day's time-series data\n",
    "    in MATLAB matrix syntax.\n",
    "    \"\"\"\n",
    "    data = []\n",
    "    with open(file_path, 'r') as file:\n",
    "        for line in file:\n",
    "            #Convert MATLAB matrix syntax to NumPy array\n",
    "            line = line.strip().replace('[', '').replace(']', '')\n",
    "            rows = line.split(';')\n",
    "            matrix = np.array([[float(x) for x in row.split()] for row in rows])\n",
    "            data.append(matrix)\n",
    "    return np.array(data)"
   ]
  },
  {
   "cell_type": "code",
   "execution_count": 31,
   "id": "1d3124b2-d418-4c2c-bbb1-1f990b477ab3",
   "metadata": {},
   "outputs": [],
   "source": [
    "day_names = {1: 'Sunday', 2: 'Monday', 3: 'Tuesday', \n",
    "             4: 'Wednesday', 5: 'Thursday', 6: 'Friday', 7: 'Saturday'}"
   ]
  },
  {
   "cell_type": "code",
   "execution_count": 21,
   "id": "a7e8f508-b87f-4d69-ada8-425e0082c3ce",
   "metadata": {},
   "outputs": [
    {
     "name": "stdout",
     "output_type": "stream",
     "text": [
      "Test data shape: (18, 963, 144)\n",
      "Test labels shape: (18,)\n",
      "First guess data shape: (1, 963, 144)\n",
      "First guess label shape: (1,)\n",
      "Second guess data shape: (1, 963, 144)\n",
      "Second guess label shape: (1,)\n",
      "Third guess data shape: (1, 963, 144)\n",
      "Third guess label shape: (1,)\n"
     ]
    },
    {
     "name": "stderr",
     "output_type": "stream",
     "text": [
      "C:\\Users\\vdinh\\AppData\\Local\\Temp\\ipykernel_33456\\4240388857.py:8: FutureWarning: The 'delim_whitespace' keyword in pd.read_csv is deprecated and will be removed in a future version. Use ``sep='\\s+'`` instead\n",
      "  df = pd.read_csv(file_path, header=None, delim_whitespace=True)\n",
      "C:\\Users\\vdinh\\AppData\\Local\\Temp\\ipykernel_33456\\4240388857.py:8: FutureWarning: The 'delim_whitespace' keyword in pd.read_csv is deprecated and will be removed in a future version. Use ``sep='\\s+'`` instead\n",
      "  df = pd.read_csv(file_path, header=None, delim_whitespace=True)\n",
      "C:\\Users\\vdinh\\AppData\\Local\\Temp\\ipykernel_33456\\4240388857.py:8: FutureWarning: The 'delim_whitespace' keyword in pd.read_csv is deprecated and will be removed in a future version. Use ``sep='\\s+'`` instead\n",
      "  df = pd.read_csv(file_path, header=None, delim_whitespace=True)\n",
      "C:\\Users\\vdinh\\AppData\\Local\\Temp\\ipykernel_33456\\4240388857.py:8: FutureWarning: The 'delim_whitespace' keyword in pd.read_csv is deprecated and will be removed in a future version. Use ``sep='\\s+'`` instead\n",
      "  df = pd.read_csv(file_path, header=None, delim_whitespace=True)\n"
     ]
    }
   ],
   "source": [
    "# Prototype Example\n",
    "test_file = \"PEMS_test\"\n",
    "test_label_file = \"PEMS_testlabels\"\n",
    "first_guess_file = \"First_Day_Guess_test.txt\"\n",
    "first_guess_label_file = \"First_Day_Guess_label.txt\"\n",
    "second_guess_file = \"Second_Day_Guess_test.txt\"\n",
    "second_guess_label_file = \"Second_Day_Guess_label.txt\"\n",
    "third_guess_file = \"Third_Day_Guess_test.txt\"\n",
    "third_guess_label_file = \"Third_Day_Guess_label.txt\"\n",
    "\n",
    "#Parse\n",
    "test_data = parse_pems_data(test_file)\n",
    "first_guess_test_data = parse_pems_data(first_guess_file)\n",
    "second_guess_test_data = parse_pems_data(second_guess_file)\n",
    "third_guess_test_data = parse_pems_data(third_guess_file)\n",
    "#Load \n",
    "test_labels = load_labels(test_label_file)\n",
    "first_guess_test_labels = load_labels(first_guess_label_file)\n",
    "second_guess_test_labels = load_labels(second_guess_label_file)\n",
    "third_guess_test_labels = load_labels(third_guess_label_file)\n",
    "print(\"Test data shape:\", test_data.shape)\n",
    "print(\"Test labels shape:\", test_labels.shape)\n",
    "print(\"First guess data shape:\", first_guess_test_data.shape)\n",
    "print(\"First guess label shape:\", first_guess_test_labels.shape)\n",
    "print(\"Second guess data shape:\", second_guess_test_data.shape)\n",
    "print(\"Second guess label shape:\", second_guess_test_labels.shape)\n",
    "print(\"Third guess data shape:\", third_guess_test_data.shape)\n",
    "print(\"Third guess label shape:\", third_guess_test_labels.shape)"
   ]
  },
  {
   "cell_type": "code",
   "execution_count": 17,
   "id": "c9b06cd2-579d-46a3-90f5-c44dab343507",
   "metadata": {},
   "outputs": [
    {
     "name": "stdout",
     "output_type": "stream",
     "text": [
      "Baseline Accuracy: 0.9444444444444444\n",
      "\n",
      "Classification Report:\n",
      "               precision    recall  f1-score   support\n",
      "\n",
      "           1       1.00      1.00      1.00         3\n",
      "           2       1.00      1.00      1.00         3\n",
      "           3       0.75      1.00      0.86         3\n",
      "           4       1.00      0.75      0.86         4\n",
      "           5       1.00      1.00      1.00         2\n",
      "           6       1.00      1.00      1.00         1\n",
      "           7       1.00      1.00      1.00         2\n",
      "\n",
      "    accuracy                           0.94        18\n",
      "   macro avg       0.96      0.96      0.96        18\n",
      "weighted avg       0.96      0.94      0.94        18\n",
      "\n"
     ]
    }
   ],
   "source": [
    "# Predictions\n",
    "test_pred = loaded_model.predict(test_data.reshape(test_data.shape[0], -1))\n",
    "print(\"Baseline Accuracy:\", accuracy_score(test_labels, test_pred))\n",
    "print(\"\\nClassification Report:\\n\", classification_report(test_labels, test_pred))"
   ]
  },
  {
   "cell_type": "code",
   "execution_count": 23,
   "id": "381f72b1-c6c7-41ae-849f-06dde068c610",
   "metadata": {},
   "outputs": [
    {
     "name": "stdout",
     "output_type": "stream",
     "text": [
      "Baseline Accuracy: 1.0\n",
      "\n",
      "Classification Report:\n",
      "               precision    recall  f1-score   support\n",
      "\n",
      "           6       1.00      1.00      1.00         1\n",
      "\n",
      "    accuracy                           1.00         1\n",
      "   macro avg       1.00      1.00      1.00         1\n",
      "weighted avg       1.00      1.00      1.00         1\n",
      "\n"
     ]
    }
   ],
   "source": [
    "# First Day Guess\n",
    "first_guess_test_pred = loaded_model.predict(first_guess_test_data.reshape(first_guess_test_data.shape[0], -1))\n",
    "print(\"Baseline Accuracy:\", accuracy_score(first_guess_test_labels, first_guess_test_pred))\n",
    "print(\"\\nClassification Report:\\n\", classification_report(first_guess_test_labels, first_guess_test_pred))"
   ]
  },
  {
   "cell_type": "code",
   "execution_count": 45,
   "id": "653c7793-3ebf-46a1-a2a7-96b70bc2b0d4",
   "metadata": {},
   "outputs": [
    {
     "name": "stdout",
     "output_type": "stream",
     "text": [
      "What day is it: Friday\n"
     ]
    }
   ],
   "source": [
    "first_value = first_guess_test_pred[0]\n",
    "print(f'What day is it: {day_names[first_value]}')"
   ]
  },
  {
   "cell_type": "code",
   "execution_count": 25,
   "id": "732697bb-3b8b-4e40-8066-f24331e445ff",
   "metadata": {},
   "outputs": [
    {
     "name": "stdout",
     "output_type": "stream",
     "text": [
      "Baseline Accuracy: 1.0\n",
      "\n",
      "Classification Report:\n",
      "               precision    recall  f1-score   support\n",
      "\n",
      "           7       1.00      1.00      1.00         1\n",
      "\n",
      "    accuracy                           1.00         1\n",
      "   macro avg       1.00      1.00      1.00         1\n",
      "weighted avg       1.00      1.00      1.00         1\n",
      "\n"
     ]
    }
   ],
   "source": [
    "# Second Day Guess\n",
    "second_guess_test_pred = loaded_model.predict(second_guess_test_data.reshape(second_guess_test_data.shape[0], -1))\n",
    "print(\"Baseline Accuracy:\", accuracy_score(second_guess_test_labels, second_guess_test_pred))\n",
    "print(\"\\nClassification Report:\\n\", classification_report(second_guess_test_labels, second_guess_test_pred))"
   ]
  },
  {
   "cell_type": "code",
   "execution_count": 43,
   "id": "deca1fba-e4e5-46db-ad0f-3c17aa02e69d",
   "metadata": {},
   "outputs": [
    {
     "name": "stdout",
     "output_type": "stream",
     "text": [
      "What day is it: Saturday\n"
     ]
    }
   ],
   "source": [
    "second_value = second_guess_test_pred[0]\n",
    "print(f'What day is it: {day_names[second_value]}')"
   ]
  },
  {
   "cell_type": "code",
   "execution_count": 27,
   "id": "a73086e6-074e-45bf-96a4-ba928a840996",
   "metadata": {},
   "outputs": [
    {
     "name": "stdout",
     "output_type": "stream",
     "text": [
      "Baseline Accuracy: 1.0\n",
      "\n",
      "Classification Report:\n",
      "               precision    recall  f1-score   support\n",
      "\n",
      "           3       1.00      1.00      1.00         1\n",
      "\n",
      "    accuracy                           1.00         1\n",
      "   macro avg       1.00      1.00      1.00         1\n",
      "weighted avg       1.00      1.00      1.00         1\n",
      "\n"
     ]
    }
   ],
   "source": [
    "# Third Day Guess\n",
    "third_guess_test_pred = loaded_model.predict(third_guess_test_data.reshape(third_guess_test_data.shape[0], -1))\n",
    "print(\"Baseline Accuracy:\", accuracy_score(third_guess_test_labels, third_guess_test_pred))\n",
    "print(\"\\nClassification Report:\\n\", classification_report(third_guess_test_labels, third_guess_test_pred))"
   ]
  },
  {
   "cell_type": "code",
   "execution_count": 41,
   "id": "5c5f0bcc-f2e7-4d98-b2d9-ec289666182c",
   "metadata": {},
   "outputs": [
    {
     "name": "stdout",
     "output_type": "stream",
     "text": [
      "What day is it: Tuesday\n"
     ]
    }
   ],
   "source": [
    "third_value = third_guess_test_pred[0]\n",
    "print(f'What day is it: {day_names[third_value]}')"
   ]
  }
 ],
 "metadata": {
  "kernelspec": {
   "display_name": "Python 3 (ipykernel)",
   "language": "python",
   "name": "python3"
  },
  "language_info": {
   "codemirror_mode": {
    "name": "ipython",
    "version": 3
   },
   "file_extension": ".py",
   "mimetype": "text/x-python",
   "name": "python",
   "nbconvert_exporter": "python",
   "pygments_lexer": "ipython3",
   "version": "3.12.4"
  }
 },
 "nbformat": 4,
 "nbformat_minor": 5
}
