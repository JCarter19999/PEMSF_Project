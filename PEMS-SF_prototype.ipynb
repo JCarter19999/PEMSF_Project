{
 "cells": [
  {
   "cell_type": "markdown",
   "id": "cb794b17-74c9-41f1-93cc-71d4060bdfd0",
   "metadata": {},
   "source": [
    "Joseph Bruno, Stacey Van, Vu Dinh\n",
    "\n",
    "CMPE 255 Term Project / Group 2"
   ]
  },
  {
   "cell_type": "markdown",
   "id": "af26ed0e-53c4-43f8-a9e8-f8ac74c88d55",
   "metadata": {},
   "source": [
    "## **Part 2: PEM-SF_prototype**\n",
    "This notebook contains the prototype that classifies day-of-week based on specific traffic inputs.\n",
    "<br> Follow steps outline in the README.md file for details.\n",
    "\n",
    "**Required Files:**\n",
    "1. PEMS-SF_prototype.ipynb\n",
    "2. PEMS_test.txt\n",
    "3. PEMS_trainlabels.txt\n",
    "4. guess_1_train.txt\n",
    "5. guess_1_test.txt\n",
    "6. guess_2_train.txt\n",
    "7. guess_2_test.txt\n",
    "8. guess_3_train.txt\n",
    "9. guess_3_test.txt\n",
    "10. random_forest_model.pkl"
   ]
  },
  {
   "cell_type": "markdown",
   "id": "f86dccc8-41ae-4213-b2d4-16c8e3611a94",
   "metadata": {},
   "source": [
    "### **Import Python Libraries**"
   ]
  },
  {
   "cell_type": "code",
   "execution_count": 264,
   "id": "f061331f-05a3-400c-8ef8-acfcf3102a18",
   "metadata": {},
   "outputs": [],
   "source": [
    "import joblib\n",
    "import numpy as np\n",
    "import pandas as pd\n",
    "from sklearn.metrics import classification_report, accuracy_score"
   ]
  },
  {
   "cell_type": "markdown",
   "id": "465828c6-cb94-4da6-9d8e-9b31b941dbcf",
   "metadata": {},
   "source": [
    "### **Load Model from Part 1**"
   ]
  },
  {
   "cell_type": "code",
   "execution_count": 266,
   "id": "9cc7c30b-7944-4863-86e5-843078312633",
   "metadata": {},
   "outputs": [],
   "source": [
    "# load the model\n",
    "loaded_model = joblib.load('random_forest_model.pkl')"
   ]
  },
  {
   "cell_type": "markdown",
   "id": "479d439b-8f12-488a-a5ef-2ed6c94f03f0",
   "metadata": {},
   "source": [
    "#### **Ensure proper formating**"
   ]
  },
  {
   "cell_type": "code",
   "execution_count": 268,
   "id": "285493be-3a8b-4d34-82ed-a207961c0b4b",
   "metadata": {},
   "outputs": [],
   "source": [
    "def load_labels(file_path): # load and clean labels\n",
    "    \"\"\"\n",
    "    1. Load labels with pandas. \n",
    "    2. Clean format: brackets, whitespace. \n",
    "    \"\"\"\n",
    "    df = pd.read_csv(file_path, header=None, sep=r'\\s+')  # read the file as a single column \n",
    "    df = df.apply(lambda col: col.astype(str).str.replace('[', '', regex = False).str.replace(']', '', regex = False).str.strip())  # removes brackets, strip extra whitespace in columns\n",
    "\n",
    "    labels = df.values.flatten().astype(int) # convert to integers\n",
    "    return labels\n",
    "\n",
    "# parse data files\n",
    "def parse_pems_data(file_path):\n",
    "    \"\"\"\n",
    "    1. Parse each line to show day's time-series data \n",
    "    2. Format: MATLAB matrix syntax\n",
    "    \"\"\"\n",
    "    data = []\n",
    "    with open(file_path, 'r') as file:\n",
    "        for line in file: # convert MATLAB matrix syntax to NumPy array\n",
    "            line = line.strip().replace('[', '').replace(']', '')\n",
    "            rows = line.split(';')\n",
    "            matrix = np.array([[float(x) for x in row.split()] for row in rows])\n",
    "            data.append(matrix)\n",
    "    return np.array(data)"
   ]
  },
  {
   "cell_type": "markdown",
   "id": "1b8eb394-592d-424e-a40a-9e47d76130ce",
   "metadata": {},
   "source": [
    "#### **Assign numerical values with day-of-week**"
   ]
  },
  {
   "cell_type": "code",
   "execution_count": 270,
   "id": "1d3124b2-d418-4c2c-bbb1-1f990b477ab3",
   "metadata": {},
   "outputs": [],
   "source": [
    "day_names = {1: 'Sunday', 2: 'Monday', 3: 'Tuesday', 4: 'Wednesday', 5: 'Thursday', 6: 'Friday', 7: 'Saturday'}"
   ]
  },
  {
   "cell_type": "markdown",
   "id": "021b0a0c-5836-4260-ad97-87f2e80b1dd1",
   "metadata": {},
   "source": [
    "#### **Load files and print datasets shape**"
   ]
  },
  {
   "cell_type": "code",
   "execution_count": 272,
   "id": "a7e8f508-b87f-4d69-ada8-425e0082c3ce",
   "metadata": {},
   "outputs": [
    {
     "name": "stdout",
     "output_type": "stream",
     "text": [
      "Test data shape: (18, 963, 144)\n",
      "Test labels shape: (18,)\n",
      "\n",
      "First guess data shape: (1, 963, 144)\n",
      "First guess label shape: (1,)\n",
      "\n",
      "Second guess data shape: (1, 963, 144)\n",
      "Second guess label shape: (1,)\n",
      "\n",
      "Third guess data shape: (1, 963, 144)\n",
      "Third guess label shape: (1,)\n"
     ]
    }
   ],
   "source": [
    "# prototype example\n",
    "test_file = \"PEMS_test.txt\"\n",
    "test_label_file = \"PEMS_testlabels.txt\"\n",
    "first_guess_file = \"guess_1_test.txt\"\n",
    "first_guess_label_file = \"guess_1_label.txt\"\n",
    "second_guess_file = \"guess_2_test.txt\"\n",
    "second_guess_label_file = \"guess_2_label.txt\"\n",
    "third_guess_file = \"guess_3_test.txt\"\n",
    "third_guess_label_file = \"guess_3_label.txt\"\n",
    "\n",
    "# parse\n",
    "test_data = parse_pems_data(test_file)\n",
    "first_guess_test_data = parse_pems_data(first_guess_file)\n",
    "second_guess_test_data = parse_pems_data(second_guess_file)\n",
    "third_guess_test_data = parse_pems_data(third_guess_file)\n",
    "\n",
    "# load \n",
    "test_labels = load_labels(test_label_file)\n",
    "first_guess_test_labels = load_labels(first_guess_label_file)\n",
    "second_guess_test_labels = load_labels(second_guess_label_file)\n",
    "third_guess_test_labels = load_labels(third_guess_label_file)\n",
    "\n",
    "# print\n",
    "print(\"Test data shape:\", test_data.shape)\n",
    "print(\"Test labels shape:\", test_labels.shape)\n",
    "print(\"\\nFirst guess data shape:\", first_guess_test_data.shape)\n",
    "print(\"First guess label shape:\", first_guess_test_labels.shape)\n",
    "print(\"\\nSecond guess data shape:\", second_guess_test_data.shape)\n",
    "print(\"Second guess label shape:\", second_guess_test_labels.shape)\n",
    "print(\"\\nThird guess data shape:\", third_guess_test_data.shape)\n",
    "print(\"Third guess label shape:\", third_guess_test_labels.shape)"
   ]
  },
  {
   "cell_type": "markdown",
   "id": "d083f5cb-212f-4155-a40f-1ac82eae8884",
   "metadata": {},
   "source": [
    "#### **F1-score and Classification Report for Baseline Model**"
   ]
  },
  {
   "cell_type": "code",
   "execution_count": 274,
   "id": "c9b06cd2-579d-46a3-90f5-c44dab343507",
   "metadata": {},
   "outputs": [
    {
     "name": "stdout",
     "output_type": "stream",
     "text": [
      "Baseline Accuracy: 0.9444444444444444\n",
      "\n",
      "Classification Report:\n",
      "               precision    recall  f1-score   support\n",
      "\n",
      "           1       1.00      1.00      1.00         3\n",
      "           2       1.00      1.00      1.00         3\n",
      "           3       1.00      1.00      1.00         3\n",
      "           4       1.00      0.75      0.86         4\n",
      "           5       0.67      1.00      0.80         2\n",
      "           6       1.00      1.00      1.00         1\n",
      "           7       1.00      1.00      1.00         2\n",
      "\n",
      "    accuracy                           0.94        18\n",
      "   macro avg       0.95      0.96      0.95        18\n",
      "weighted avg       0.96      0.94      0.95        18\n",
      "\n"
     ]
    }
   ],
   "source": [
    "# predictions\n",
    "test_pred = loaded_model.predict(test_data.reshape(test_data.shape[0], -1))\n",
    "print(\"Baseline Accuracy:\", accuracy_score(test_labels, test_pred))\n",
    "print(\"\\nClassification Report:\\n\", classification_report(test_labels, test_pred))"
   ]
  },
  {
   "cell_type": "markdown",
   "id": "bd673ff6-c7a9-435e-b0a7-2899de08f101",
   "metadata": {},
   "source": [
    "# **Prototype Demonstration**\n",
    "### &nbsp;&nbsp;&nbsp;&nbsp;The moment we've all been waiting for..."
   ]
  },
  {
   "cell_type": "code",
   "execution_count": 276,
   "id": "3e6cb9c5-6cec-4309-a877-73877dad8248",
   "metadata": {},
   "outputs": [
    {
     "name": "stdout",
     "output_type": "stream",
     "text": [
      "\u001b[1mAre you smarter than an AI model?\u001b[0m\n",
      "\u001b[1mWelcome to AI Trivial!!!!\u001b[0m\n"
     ]
    }
   ],
   "source": [
    "print(\"\\033[1mAre you smarter than an AI model?\\033[0m\")\n",
    "print(\"\\033[1mWelcome to AI Trivial!!!!\\033[0m\")"
   ]
  },
  {
   "cell_type": "markdown",
   "id": "2473b827-e4dd-4032-a731-4215c6a613e3",
   "metadata": {},
   "source": [
    "## **Senario:**\n",
    "#### &nbsp;&nbsp;&nbsp;&nbsp;While taking a stroll in downtown San Francisco, you happen to stumble upon a data file. \n",
    "\n",
    "#### &nbsp;&nbsp;&nbsp;&nbsp;&nbsp;&nbsp;&nbsp;&nbsp;Strangely enough, the single sample contains exactly 963 features (same as test data) \n",
    "#### &nbsp;&nbsp;&nbsp;&nbsp;&nbsp;&nbsp;&nbsp;&nbsp;ANDD exactly 144 time dimensions (what a coincidence..) \n",
    "<br>\n",
    "&nbsp;&nbsp;&nbsp;&nbsp; [<i>** Queue the sound track: Wild Pokemon Battle **</i>]"
   ]
  },
  {
   "cell_type": "markdown",
   "id": "6bcffdc3-2625-494c-84f1-930c621d3e6b",
   "metadata": {},
   "source": [
    "### **Try #1**"
   ]
  },
  {
   "cell_type": "code",
   "execution_count": 279,
   "id": "b7bc09ac-cac7-4ee8-9041-fa1e31484098",
   "metadata": {},
   "outputs": [
    {
     "name": "stdout",
     "output_type": "stream",
     "text": [
      "\u001b[1mFrom this data can you guess what day it is?\u001b[0m\n",
      "\n",
      "[0.0203 0.0218 0.0234 0.0256 0.0256 0.0212 0.0209 0.0236 0.0223 0.021\n",
      " 0.0219 0.0205 0.0229 0.0253 0.0222 0.025  0.0262 0.0224 0.0196 0.0233\n",
      " 0.022  0.0244 0.0247 0.0254 0.0275 0.0239 0.0308 0.0321 0.0337 0.0348\n",
      " 0.0358 0.0449 0.0454 0.0578 0.0618 0.0768 0.0712 0.0931 0.086  0.0672\n",
      " 0.0721 0.0684 0.0643 0.0669 0.069  0.064  0.0621 0.0631 0.063  0.0637\n",
      " 0.0768 0.071  0.0715 0.0755 0.0656 0.0605 0.0741 0.0689 0.0542 0.0472\n",
      " 0.0603 0.0632 0.0678 0.0684 0.072  0.0744 0.0757 0.0692 0.0659 0.0675\n",
      " 0.069  0.0553 0.0659 0.0703 0.0751 0.076  0.0773 0.0707 0.0685 0.063\n",
      " 0.0666 0.062  0.0713 0.0653 0.0716 0.071  0.0694 0.0616 0.0729 0.0599\n",
      " 0.0683 0.0745 0.0638 0.0709 0.0609 0.0641 0.0681 0.0684 0.067  0.0637\n",
      " 0.0654 0.0611 0.0686 0.0679 0.0668 0.0613 0.0628 0.0624 0.0671 0.0646\n",
      " 0.0611 0.0563 0.0605 0.0594 0.0458 0.0563 0.0446 0.0494 0.0437 0.0467\n",
      " 0.0429 0.0448 0.0396 0.04   0.0405 0.0398 0.0373 0.0375 0.0371 0.0373\n",
      " 0.0387 0.0349 0.0327 0.0381 0.0349 0.0311 0.0313 0.0276 0.0283 0.029\n",
      " 0.0223 0.0269 0.0253 0.0237]\n"
     ]
    }
   ],
   "source": [
    "first = first_guess_test_data.reshape(first_guess_test_data.shape[0], -1)\n",
    "print(f'\\033[1mFrom this data can you guess what day it is?\\033[0m\\n')\n",
    "print(f'{first[0, :144]}')"
   ]
  },
  {
   "cell_type": "code",
   "execution_count": 280,
   "id": "381f72b1-c6c7-41ae-849f-06dde068c610",
   "metadata": {},
   "outputs": [
    {
     "name": "stdout",
     "output_type": "stream",
     "text": [
      "\u001b[1mNow it is the AI models turn\u001b[0m\n",
      "\n",
      "Baseline Accuracy: 1.0\n",
      "\n",
      "Classification Report:\n",
      "               precision    recall  f1-score   support\n",
      "\n",
      "           6       1.00      1.00      1.00         1\n",
      "\n",
      "    accuracy                           1.00         1\n",
      "   macro avg       1.00      1.00      1.00         1\n",
      "weighted avg       1.00      1.00      1.00         1\n",
      "\n",
      "\u001b[1mWhat day is it: Friday\u001b[0m\n"
     ]
    }
   ],
   "source": [
    "print(f'\\033[1mNow it is the AI models turn\\033[0m\\n')\n",
    "first_guess_test_pred = loaded_model.predict(first_guess_test_data.reshape(first_guess_test_data.shape[0], -1))\n",
    "print(\"Baseline Accuracy:\", accuracy_score(first_guess_test_labels, first_guess_test_pred))\n",
    "print(\"\\nClassification Report:\\n\", classification_report(first_guess_test_labels, first_guess_test_pred))\n",
    "first_value = first_guess_test_pred[0]\n",
    "print(f'\\033[1mWhat day is it: {day_names[first_value]}\\033[0m')"
   ]
  },
  {
   "cell_type": "markdown",
   "id": "06a274a4-38db-4770-b46a-1216e0e2386d",
   "metadata": {},
   "source": [
    "### **Try #2**"
   ]
  },
  {
   "cell_type": "code",
   "execution_count": 282,
   "id": "fb2c15f6-3549-4ea6-928d-115f6fdf9811",
   "metadata": {},
   "outputs": [
    {
     "name": "stdout",
     "output_type": "stream",
     "text": [
      "\u001b[1mFrom this data can you guess what day it is?\u001b[0m\n",
      "\n",
      "[0.012  0.0134 0.0116 0.0146 0.0113 0.0118 0.0097 0.0076 0.0085 0.0073\n",
      " 0.0092 0.01   0.0096 0.0105 0.0078 0.0087 0.0097 0.0097 0.0069 0.0087\n",
      " 0.0093 0.0075 0.0082 0.0101 0.0091 0.0083 0.0118 0.015  0.0114 0.0117\n",
      " 0.0155 0.0163 0.0188 0.0226 0.0209 0.0181 0.0188 0.0185 0.0257 0.0308\n",
      " 0.0329 0.0279 0.0325 0.0323 0.0345 0.0306 0.0356 0.0382 0.0404 0.0368\n",
      " 0.0378 0.0447 0.0459 0.0498 0.0489 0.0471 0.043  0.049  0.0539 0.0595\n",
      " 0.0516 0.0548 0.0537 0.0585 0.0598 0.0592 0.0635 0.064  0.0565 0.0625\n",
      " 0.0661 0.0703 0.0598 0.0628 0.0745 0.0659 0.07   0.0687 0.063  0.0621\n",
      " 0.07   0.054  0.0685 0.0619 0.0577 0.0597 0.0673 0.0658 0.0673 0.0599\n",
      " 0.0637 0.0551 0.0546 0.0644 0.0679 0.0517 0.0697 0.0594 0.0663 0.0601\n",
      " 0.0627 0.0561 0.0573 0.056  0.0575 0.0577 0.0578 0.0482 0.0527 0.0597\n",
      " 0.0554 0.0473 0.0509 0.0523 0.0459 0.038  0.0326 0.04   0.0395 0.0405\n",
      " 0.0344 0.0394 0.0341 0.0323 0.0414 0.0357 0.0368 0.0371 0.0355 0.0337\n",
      " 0.0373 0.0326 0.0313 0.031  0.0332 0.0294 0.0303 0.0267 0.0249 0.0244\n",
      " 0.0198 0.0164 0.0164 0.0126]\n"
     ]
    }
   ],
   "source": [
    "second = second_guess_test_data.reshape(second_guess_test_data.shape[0], -1)\n",
    "print(f'\\033[1mFrom this data can you guess what day it is?\\033[0m\\n')\n",
    "print(f'{second[0, :144]}')"
   ]
  },
  {
   "cell_type": "code",
   "execution_count": 283,
   "id": "732697bb-3b8b-4e40-8066-f24331e445ff",
   "metadata": {},
   "outputs": [
    {
     "name": "stdout",
     "output_type": "stream",
     "text": [
      "\u001b[1mNow it is the AI models turn\u001b[0m\n",
      "\n",
      "Baseline Accuracy: 1.0\n",
      "\n",
      "Classification Report:\n",
      "               precision    recall  f1-score   support\n",
      "\n",
      "           7       1.00      1.00      1.00         1\n",
      "\n",
      "    accuracy                           1.00         1\n",
      "   macro avg       1.00      1.00      1.00         1\n",
      "weighted avg       1.00      1.00      1.00         1\n",
      "\n",
      "\u001b[1mWhat day is it: Saturday\u001b[0m\n"
     ]
    }
   ],
   "source": [
    "print(f'\\033[1mNow it is the AI models turn\\033[0m\\n')\n",
    "second_guess_test_pred = loaded_model.predict(second_guess_test_data.reshape(second_guess_test_data.shape[0], -1))\n",
    "print(\"Baseline Accuracy:\", accuracy_score(second_guess_test_labels, second_guess_test_pred))\n",
    "print(\"\\nClassification Report:\\n\", classification_report(second_guess_test_labels, second_guess_test_pred))\n",
    "second_value = second_guess_test_pred[0]\n",
    "print(f'\\033[1mWhat day is it: {day_names[second_value]}\\033[0m')"
   ]
  },
  {
   "cell_type": "markdown",
   "id": "8b6fada2-cd1d-4911-bf50-a8bc95d0e3e2",
   "metadata": {},
   "source": [
    "### **Try #3**"
   ]
  },
  {
   "cell_type": "code",
   "execution_count": 285,
   "id": "49616e9f-0df3-4695-90b6-8753c46dd12b",
   "metadata": {},
   "outputs": [
    {
     "name": "stdout",
     "output_type": "stream",
     "text": [
      "\u001b[1mFrom this data can you guess what day it is?\u001b[0m\n",
      "\n",
      "[0.0243 0.0224 0.0182 0.0189 0.0248 0.0163 0.0232 0.0229 0.0171 0.0178\n",
      " 0.0214 0.0231 0.0227 0.0196 0.0246 0.0227 0.0277 0.0196 0.021  0.0262\n",
      " 0.0245 0.0245 0.027  0.0294 0.0275 0.0318 0.0322 0.0318 0.0397 0.0334\n",
      " 0.0413 0.0436 0.0498 0.0665 0.0647 0.0665 0.0833 0.0876 0.0888 0.2484\n",
      " 0.1889 0.0987 0.0594 0.062  0.0551 0.059  0.0637 0.0546 0.0623 0.0681\n",
      " 0.075  0.0715 0.0619 0.0701 0.0688 0.0557 0.0601 0.0565 0.0652 0.0677\n",
      " 0.0568 0.0673 0.0682 0.0642 0.0671 0.0711 0.0635 0.0587 0.0662 0.068\n",
      " 0.077  0.0634 0.071  0.0629 0.0596 0.0661 0.0684 0.0614 0.0634 0.0705\n",
      " 0.0681 0.0705 0.0723 0.0623 0.0633 0.063  0.0652 0.06   0.0695 0.074\n",
      " 0.0668 0.0682 0.0627 0.0628 0.0665 0.0609 0.0625 0.0599 0.0643 0.051\n",
      " 0.0652 0.0604 0.0708 0.0681 0.061  0.0704 0.0576 0.0687 0.0582 0.0625\n",
      " 0.0676 0.0636 0.0548 0.0591 0.0505 0.0445 0.0481 0.0459 0.0462 0.0415\n",
      " 0.0384 0.0354 0.0397 0.0401 0.0364 0.0376 0.0375 0.0326 0.0348 0.035\n",
      " 0.0335 0.0292 0.033  0.0336 0.0299 0.0335 0.0271 0.029  0.0225 0.0239\n",
      " 0.0243 0.0222 0.0236 0.0226]\n"
     ]
    }
   ],
   "source": [
    "third = third_guess_test_data.reshape(third_guess_test_data.shape[0], -1)\n",
    "print(f'\\033[1mFrom this data can you guess what day it is?\\033[0m\\n')\n",
    "print(f'{third[0, :144]}')"
   ]
  },
  {
   "cell_type": "code",
   "execution_count": 286,
   "id": "a73086e6-074e-45bf-96a4-ba928a840996",
   "metadata": {},
   "outputs": [
    {
     "name": "stdout",
     "output_type": "stream",
     "text": [
      "\u001b[1mNow it is the AI models turn\u001b[0m\n",
      "\n",
      "Baseline Accuracy: 1.0\n",
      "\n",
      "Classification Report:\n",
      "               precision    recall  f1-score   support\n",
      "\n",
      "           3       1.00      1.00      1.00         1\n",
      "\n",
      "    accuracy                           1.00         1\n",
      "   macro avg       1.00      1.00      1.00         1\n",
      "weighted avg       1.00      1.00      1.00         1\n",
      "\n",
      "\u001b[1mWhat day is it: Tuesday\u001b[0m\n"
     ]
    }
   ],
   "source": [
    "print(f'\\033[1mNow it is the AI models turn\\033[0m\\n')\n",
    "third_guess_test_pred = loaded_model.predict(third_guess_test_data.reshape(third_guess_test_data.shape[0], -1))\n",
    "print(\"Baseline Accuracy:\", accuracy_score(third_guess_test_labels, third_guess_test_pred))\n",
    "print(\"\\nClassification Report:\\n\", classification_report(third_guess_test_labels, third_guess_test_pred))\n",
    "third_value = third_guess_test_pred[0]\n",
    "print(f'\\033[1mWhat day is it: {day_names[third_value]}\\033[0m')"
   ]
  },
  {
   "cell_type": "markdown",
   "id": "c725f37f-d36e-445c-9f68-473dc8d71d36",
   "metadata": {},
   "source": [
    "### &nbsp;&nbsp;&nbsp;&nbsp;**Woohoo. How did you do?**\n",
    "#### &nbsp;&nbsp;&nbsp;&nbsp;&nbsp;&nbsp;&nbsp;&nbsp;**Congrats on completing \"Are you smarter than an AI Model?\"!!!**"
   ]
  }
 ],
 "metadata": {
  "kernelspec": {
   "display_name": "Python 3 (ipykernel)",
   "language": "python",
   "name": "python3"
  },
  "language_info": {
   "codemirror_mode": {
    "name": "ipython",
    "version": 3
   },
   "file_extension": ".py",
   "mimetype": "text/x-python",
   "name": "python",
   "nbconvert_exporter": "python",
   "pygments_lexer": "ipython3",
   "version": "3.12.4"
  }
 },
 "nbformat": 4,
 "nbformat_minor": 5
}
